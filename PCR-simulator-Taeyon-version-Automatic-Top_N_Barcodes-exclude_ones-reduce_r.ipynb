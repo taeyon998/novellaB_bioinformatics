{
 "cells": [
  {
   "cell_type": "code",
   "execution_count": 1,
   "id": "dd3705af",
   "metadata": {},
   "outputs": [],
   "source": [
    "import numpy as np\n",
    "import matplotlib.pyplot as plt\n",
    "import math\n",
    "from scipy.stats import binom\n",
    "from scipy.stats import poisson\n",
    "from sklearn.metrics import mean_squared_error\n",
    "import pandas as pd\n",
    "import h5py"
   ]
  },
  {
   "cell_type": "code",
   "execution_count": 2,
   "id": "14956477",
   "metadata": {},
   "outputs": [],
   "source": [
    "from tqdm.notebook import tqdm, trange\n",
    "import time    # to be used in loop iterations"
   ]
  },
  {
   "cell_type": "markdown",
   "id": "618e0a94",
   "metadata": {},
   "source": [
    "##### User Parameters"
   ]
  },
  {
   "cell_type": "code",
   "execution_count": 3,
   "id": "0b22a8b8",
   "metadata": {},
   "outputs": [],
   "source": [
    "NAME_FILE = '5k_pbmc_v3_molecule_info'  # name of h5 file (exclude \".h5\")\n",
    "PCR = 12  # number of amplification PCR cycles\n",
    "\n",
    "N_cells = 5025  # Enter expected number of cells (eg. 5000 for 5k_pbmc)"
   ]
  },
  {
   "cell_type": "code",
   "execution_count": 4,
   "id": "41d0f9b7",
   "metadata": {},
   "outputs": [],
   "source": [
    "used_topn = False"
   ]
  },
  {
   "cell_type": "markdown",
   "id": "946ee74c",
   "metadata": {},
   "source": [
    "##### Fast Combination Function  (Much faster than math.comb)"
   ]
  },
  {
   "cell_type": "code",
   "execution_count": 5,
   "id": "bba1f4f0",
   "metadata": {},
   "outputs": [],
   "source": [
    "#Combinationequation(Returns\"LOGVALUE\"ofcomb)\n",
    "def comb(n,k):\n",
    "    \"\"\"\n",
    "    AfastwaytocalculatebinomialcoefficientsbyAndrewDalke(contrib).\n",
    "    \"\"\"\n",
    "    if 0<=k<=n:\n",
    "        ntok=1\n",
    "        ktok=1\n",
    "        for t in range(1,min(k,n-k)+1):\n",
    "            ntok+=math.log(n)\n",
    "            ktok+=math.log(t)\n",
    "            n-=1\n",
    "        return ntok - ktok\n",
    "    else:\n",
    "        return -1000\n"
   ]
  },
  {
   "cell_type": "code",
   "execution_count": 6,
   "id": "23d619d7",
   "metadata": {},
   "outputs": [],
   "source": [
    "# EFFECT: same, but faster than, binom.pmf(x,n,r)\n",
    "def fast_binom(x,n,r):  # eg. binom(x=1, n=1000 copies, r=0.001 capture rate)\n",
    "    return math.exp(comb(n,x)) * r**x * (1-r)**(n-x)"
   ]
  },
  {
   "cell_type": "markdown",
   "id": "4cb8c2a8",
   "metadata": {},
   "source": [
    "# Galton-Watson Branching "
   ]
  },
  {
   "cell_type": "markdown",
   "id": "307a53ee",
   "metadata": {},
   "source": [
    "Assume p(amp) = 0.9\n",
    "<br>\n",
    "Then: \n",
    "<br>\n",
    "> G1(z) = 0.1 + 0.9z\n",
    "<br>\n",
    "G2(z) = 0.1 * G1(z) + 0.9z * G1(z) \n",
    "<br>\n",
    "= (0.01 + 0.09z) + (0.09z + 0.81z^2)\n",
    "<br>\n",
    "= 0.01 + 0.18z + 0.81z^2\n",
    "<br><br>\n",
    "z = 1 suc. cycle, z^2 = 2 suc. cycle, z^3 = 3 suc. ..."
   ]
  },
  {
   "cell_type": "markdown",
   "id": "ae1df1a9",
   "metadata": {},
   "source": [
    "After 2 iterations (PCR cycles),\n",
    "> P(0 successful cycle) = 0.01  <br>\n",
    "P(1 suc. cycle) = 0.18 <br>\n",
    "P(2 suc. cycles) = 0.81"
   ]
  },
  {
   "cell_type": "markdown",
   "id": "c865d17e",
   "metadata": {},
   "source": [
    "### Recursion Equation"
   ]
  },
  {
   "cell_type": "markdown",
   "id": "84f98410",
   "metadata": {},
   "source": [
    "##### Prob. that there are eg. k=4 molecules at eg. cycle n=3  (max 2^n=8 molecules)"
   ]
  },
  {
   "cell_type": "markdown",
   "id": "f7285999",
   "metadata": {},
   "source": [
    "Parameters:\n",
    "> n = number of PCR cycles\n",
    "<br>\n",
    "k = number of molecules\n",
    "<br>\n",
    "E = prob. of successfuly doubling each PCR cycle"
   ]
  },
  {
   "cell_type": "code",
   "execution_count": 7,
   "id": "4cbaa865",
   "metadata": {},
   "outputs": [],
   "source": [
    "# Make recursion faster via using cache  (avoid repitive calculation)\n",
    "from functools import lru_cache\n",
    "\n",
    "@lru_cache(maxsize=None)\n",
    "def P_k(n, k, E):  # n = number of PCR cycles, k = eg. 400 copies, E = eg. 0.9 capture efficiency\n",
    "    if n==0:  # if cycle 0, then return 1 molecule\n",
    "        if k==1:\n",
    "            return 1\n",
    "        else:\n",
    "            return 0\n",
    "    else:\n",
    "        sum_pk = 0\n",
    "        for j in range(int(k/2),k+1):\n",
    "            sum_pk += math.exp(comb(j,k-j) + math.log(E)*(k-j) + math.log(1-E)*(2*j-k)) * P_k(n-1,j,E)\n",
    "        return sum_pk"
   ]
  },
  {
   "cell_type": "code",
   "execution_count": 8,
   "id": "dc5ec75c",
   "metadata": {},
   "outputs": [
    {
     "data": {
      "text/plain": [
       "0.0032075060910953233"
      ]
     },
     "execution_count": 8,
     "metadata": {},
     "output_type": "execute_result"
    }
   ],
   "source": [
    "P_k(8,100,0.9)"
   ]
  },
  {
   "cell_type": "markdown",
   "id": "603b8be5",
   "metadata": {},
   "source": [
    "### 0. Import Real Data"
   ]
  },
  {
   "cell_type": "code",
   "execution_count": 9,
   "id": "a50bb8f5",
   "metadata": {},
   "outputs": [],
   "source": [
    "# # only for 2017\n",
    "# with h5py.File(NAME_FILE+'.h5', 'r') as hdf:  # 'r' = reading mode\n",
    "#     ls = list(hdf.keys())  # bring keys from \"key-value pairs\" in the h5 file\n",
    "#     print(ls)\n",
    "    \n",
    "#     data = hdf.get('reads')\n",
    "#     count = np.array(data)\n",
    "#     print('reads\\n', count)"
   ]
  },
  {
   "cell_type": "code",
   "execution_count": 10,
   "id": "29a417f2",
   "metadata": {},
   "outputs": [
    {
     "name": "stdout",
     "output_type": "stream",
     "text": [
      "counts\n",
      " [4 3 1 ... 3 7 1]\n",
      "how many UMIs: \n",
      "  48743599\n"
     ]
    }
   ],
   "source": [
    "with h5py.File(NAME_FILE+'.h5', 'r') as hdf:  # 'r' = reading mode\n",
    "    ls = list(hdf.keys())  # bring keys from \"key-value pairs\" in the h5 file\n",
    "\n",
    "    data = hdf.get('count')\n",
    "    count = np.array(data)\n",
    "    print('counts\\n', count)\n",
    "    print('how many UMIs: \\n ', len(count))"
   ]
  },
  {
   "cell_type": "markdown",
   "id": "f3f77468",
   "metadata": {},
   "source": [
    "Original Graph"
   ]
  },
  {
   "cell_type": "code",
   "execution_count": 11,
   "id": "e3dd8cbc",
   "metadata": {
    "scrolled": true
   },
   "outputs": [
    {
     "name": "stdout",
     "output_type": "stream",
     "text": [
      "y=0: 0\n",
      "y=1: 11933832\n",
      "y=2: 6859586\n",
      "y=3: 5943973\n",
      "y=4: 5362247\n",
      "y=5: 4683703\n",
      "y=6: 3892260\n",
      "y=7: 3060415\n",
      "y=8: 2291548\n",
      "y=9: 1635081\n",
      "y=10: 1120566\n"
     ]
    },
    {
     "data": {
      "image/png": "[encoded data removed]",
      "text/plain": [
       "<Figure size 432x288 with 1 Axes>"
      ]
     },
     "metadata": {
      "needs_background": "light"
     },
     "output_type": "display_data"
    }
   ],
   "source": [
    "# store how many UMI has counts of eg. y=1 count, y=2 count...  (eg. For x=1, there are 13431 UMIs)\n",
    "y_org = np.arange(0, 11)\n",
    "for i in y_org:\n",
    "    y_org[i] = np.count_nonzero(count == i)  # counts number of \"eg. i=3\" in array \"count\"\n",
    "    print(f'y={i}: {y_org[i]}')\n",
    "\n",
    "# Plot\n",
    "fig, ax = plt.subplots(1, 1)\n",
    "\n",
    "x = np.arange(0, 11)  # x-axis: count of UMI  (x=1 means 1 count)\n",
    "\n",
    "ax.plot(x[1:], y_org[1:], 'bo', ms=8)\n",
    "ax.vlines(x[1:], 0, y_org[1:], colors='b', lw=5, alpha=0.5)\n",
    "\n",
    "plt.xlabel('counts/UMI')\n",
    "plt.ylabel('Number of molecules')\n",
    "plt.title(f\"{NAME_FILE} \\n(average = {round(np.average(count), 3)})\")\n",
    "plt.show()"
   ]
  },
  {
   "cell_type": "markdown",
   "id": "e70e8399",
   "metadata": {},
   "source": [
    "### (Optional) Top N Barcodes"
   ]
  },
  {
   "cell_type": "markdown",
   "id": "60756a9d",
   "metadata": {},
   "source": [
    "Takes the top eg. 5000 barcodes of the original data, eg. \"5k pbmc\".  \n",
    "<br>\n",
    "*Why do this?*  \n",
    "Since 1 barcode represents 1 cell, there should be 5k barcodes for 5k pbmc cells. Correct? Ideally yes, in reality no. I detected over 250k barcodes for 5k pbmc cells. Holy crap! Yes, there is some \"crap\" in the data which I will remove, via taking the top 5k barcodes with most UMI reads."
   ]
  },
  {
   "cell_type": "code",
   "execution_count": 12,
   "id": "27e4aa26",
   "metadata": {},
   "outputs": [],
   "source": [
    "# # For 2017 only\n",
    "# import h5py\n",
    "# with h5py.File(NAME_FILE+'.h5', 'r') as hdf:  # 'r' = reading mode\n",
    "#     ls = list(hdf.keys())  # bring keys from \"key-value pairs\" in the h5 file\n",
    "\n",
    "#     data = hdf.get('barcode')\n",
    "#     count_bc = np.array(data)\n",
    "#     print('barcode\\n', count_bc)\n",
    "#     print('how many UMIs: \\n ', len(count_bc))"
   ]
  },
  {
   "cell_type": "code",
   "execution_count": 13,
   "id": "52a29352",
   "metadata": {},
   "outputs": [
    {
     "name": "stdout",
     "output_type": "stream",
     "text": [
      "barcode index\n",
      " [      0       2       2 ... 6794867 6794869 6794877]\n"
     ]
    }
   ],
   "source": [
    "with h5py.File(NAME_FILE+'.h5', 'r') as hdf:  # 'r' = reading mode\n",
    "    ls = list(hdf.keys())  # bring keys from \"key-value pairs\" in the h5 file\n",
    "    \n",
    "    data = hdf.get('barcode_idx')\n",
    "    count_bc = np.array(data)\n",
    "    print('barcode index\\n', count_bc)"
   ]
  },
  {
   "cell_type": "markdown",
   "id": "779d492f",
   "metadata": {},
   "source": [
    "Store \"UMI/barcode\" in a dictionary"
   ]
  },
  {
   "cell_type": "code",
   "execution_count": 14,
   "id": "375363b9",
   "metadata": {},
   "outputs": [
    {
     "data": {
      "application/vnd.jupyter.widget-view+json": {
       "model_id": "617098e35cd4405f8b6ac290ce9e8645",
       "version_major": 2,
       "version_minor": 0
      },
      "text/plain": [
       "  0%|          | 0/48743599 [00:00<?, ?it/s]"
      ]
     },
     "metadata": {},
     "output_type": "display_data"
    }
   ],
   "source": [
    "barcodes = dict()\n",
    "\n",
    "for i in tqdm(range(len(count_bc))):\n",
    "    if count[i]==0: # ignore if count is 0 (useful only for 2017 data)\n",
    "        continue\n",
    "        \n",
    "    idx = count_bc[i]\n",
    "    \n",
    "    if idx not in barcodes:  # Add the barcode index to hash table if it's not there\n",
    "        barcodes[idx] = 1\n",
    "    else:\n",
    "        barcodes[idx] += 1  # If eg. barcode_idx = 8 is already there, then just increment its count\n",
    "\n",
    "used_topn = True"
   ]
  },
  {
   "cell_type": "code",
   "execution_count": 15,
   "id": "cc2f9253",
   "metadata": {
    "scrolled": true
   },
   "outputs": [
    {
     "data": {
      "text/plain": [
       "891743"
      ]
     },
     "execution_count": 15,
     "metadata": {},
     "output_type": "execute_result"
    }
   ],
   "source": [
    "len(barcodes)"
   ]
  },
  {
   "cell_type": "markdown",
   "id": "fbaa94bb",
   "metadata": {},
   "source": [
    "Sort. (1) Convert Dictionay -> List, (2) List -> sort in DESCEDING order by \"number of UMIs\" per barcode\n",
    "<br><br>\n",
    "(Eg. i=50 will be the 50th most abundant barcode)"
   ]
  },
  {
   "cell_type": "code",
   "execution_count": 16,
   "id": "34344d52",
   "metadata": {},
   "outputs": [
    {
     "name": "stdout",
     "output_type": "stream",
     "text": [
      "The 5025th cell has : (5824516, 578)\n"
     ]
    }
   ],
   "source": [
    "import operator\n",
    "newA = sorted(barcodes.items(), key=operator.itemgetter(1), reverse=True)[:N_cells]\n",
    "print(f'The {N_cells}th cell has :', newA[N_cells-1])"
   ]
  },
  {
   "cell_type": "markdown",
   "id": "abec30d6",
   "metadata": {},
   "source": [
    "Take top N barcodes. Ignore all other barcodes by **turning their reads to 0**."
   ]
  },
  {
   "cell_type": "code",
   "execution_count": 17,
   "id": "4d0ed511",
   "metadata": {
    "scrolled": true
   },
   "outputs": [
    {
     "data": {
      "application/vnd.jupyter.widget-view+json": {
       "model_id": "985adfd856a04d7693478f47d410c39e",
       "version_major": 2,
       "version_minor": 0
      },
      "text/plain": [
       "  0%|          | 0/48743599 [00:00<?, ?it/s]"
      ]
     },
     "metadata": {},
     "output_type": "display_data"
    },
    {
     "name": "stdout",
     "output_type": "stream",
     "text": [
      "y=1: 7964631\n",
      "y=2: 6317560\n",
      "y=3: 5677029\n",
      "y=4: 5154478\n",
      "y=5: 4507761\n",
      "y=6: 3747273\n",
      "y=7: 2947083\n",
      "y=8: 2206419\n",
      "y=9: 1574483\n",
      "y=10: 1079101\n"
     ]
    }
   ],
   "source": [
    "# Make count[5] = 0 if the barcodes for UMI of index 5 is not the top 1222 barcodes\n",
    "umi_out = 0  # number of UMIs skipped\n",
    "for i in trange(len(count)):\n",
    "    if count_bc[i] not in barcodes:  # required for 2017 data\n",
    "        continue\n",
    "    if barcodes[count_bc[i]] < newA[N_cells-1][1]:  # if not top 1222 barcodes with most UMI counts, then skip it via making its counts to 0\n",
    "        count[i] = 0\n",
    "        umi_out += 1\n",
    "        \n",
    "y_org_topn = np.arange(1, 11)\n",
    "for i in y_org_topn:\n",
    "    y_org_topn[i-1] = np.count_nonzero(count == i)  # counts number of \"eg. i=3\" in array \"count\"\n",
    "    print(f'y={i}: {y_org_topn[i-1]}')\n",
    "    \n",
    "y_org_topn = np.concatenate([np.array([0]), y_org_topn])"
   ]
  },
  {
   "cell_type": "code",
   "execution_count": 18,
   "id": "8f9ccea0",
   "metadata": {},
   "outputs": [
    {
     "data": {
      "text/plain": [
       "array([      0, 7964631, 6317560, 5677029, 5154478, 4507761, 3747273,\n",
       "       2947083, 2206419, 1574483, 1079101])"
      ]
     },
     "execution_count": 18,
     "metadata": {},
     "output_type": "execute_result"
    }
   ],
   "source": [
    "y_org_topn"
   ]
  },
  {
   "cell_type": "markdown",
   "id": "fafe4e17",
   "metadata": {},
   "source": [
    "Original vs Top N barcodes"
   ]
  },
  {
   "cell_type": "code",
   "execution_count": 19,
   "id": "942699de",
   "metadata": {},
   "outputs": [
    {
     "data": {
      "image/png": "[encoded data removed]",
      "text/plain": [
       "<Figure size 432x288 with 1 Axes>"
      ]
     },
     "metadata": {
      "needs_background": "light"
     },
     "output_type": "display_data"
    }
   ],
   "source": [
    "# Plot\n",
    "fig, ax = plt.subplots(1, 1)\n",
    "\n",
    "x = np.arange(1, 11)  # x-axis: count of UMI  (x=1 means 1 count)\n",
    "\n",
    "\n",
    "ax.bar(x, y_org_topn[1:], color=(0.2,0.4,0.7,0.6))\n",
    "ax.plot(x, y_org[1:], 'bo', ms=8)\n",
    "\n",
    "plt.xlabel('counts/UMI')\n",
    "plt.ylabel('Number of molecules')\n",
    "plt.title(f\"{NAME_FILE}\\nbar: Top {N_cells} cells \\ndot: original\")\n",
    "plt.show()"
   ]
  },
  {
   "cell_type": "markdown",
   "id": "fcf2462f",
   "metadata": {},
   "source": [
    "### Remove ones & convert to PDF -> sum(y)=1"
   ]
  },
  {
   "cell_type": "markdown",
   "id": "546d0c5e",
   "metadata": {},
   "source": [
    "Since I assumed you ran the above \"Top N Barcodes\" functions, I will keep using the variable name \"y_org_topn\". In case you haven't, which is totally fine too, I will let this variable equal to the original data. It will still work either way."
   ]
  },
  {
   "cell_type": "code",
   "execution_count": 20,
   "id": "25120132",
   "metadata": {},
   "outputs": [
    {
     "data": {
      "text/plain": [
       "array([      0, 7964631, 6317560, 5677029, 5154478, 4507761, 3747273,\n",
       "       2947083, 2206419, 1574483, 1079101])"
      ]
     },
     "execution_count": 20,
     "metadata": {},
     "output_type": "execute_result"
    }
   ],
   "source": [
    "if used_topn == False:\n",
    "    y_org_topn = np.copy(y_org)\n",
    "y_org_topn"
   ]
  },
  {
   "cell_type": "markdown",
   "id": "2a8b9f80",
   "metadata": {},
   "source": [
    "Remove ones, and convert to PDF"
   ]
  },
  {
   "cell_type": "code",
   "execution_count": 21,
   "id": "9382ecad",
   "metadata": {
    "scrolled": true
   },
   "outputs": [
    {
     "data": {
      "image/png": "[encoded data removed]",
      "text/plain": [
       "<Figure size 432x288 with 1 Axes>"
      ]
     },
     "metadata": {
      "needs_background": "light"
     },
     "output_type": "display_data"
    }
   ],
   "source": [
    "# Find sum(y) of y_org_topn distribution\n",
    "area_org = 0\n",
    "for i,v in enumerate(y_org_topn):\n",
    "    area_org += v \n",
    "\n",
    "# 1. Convert to PDF (Divide by area)\n",
    "y_org_pdf_with_ones=[v/area_org for v in y_org_topn]\n",
    "\n",
    "# 2. Remove ones\n",
    "y_org_pdf=[v/(1-y_org_pdf_with_ones[1]) for v in y_org_pdf_with_ones]  # Re-scale such that sum(y[2 to n]) = 1\n",
    "y_org_pdf[1] = 0\n",
    "\n",
    "# Plot\n",
    "fig, ax = plt.subplots(1, 1)\n",
    "x = np.arange(1, 11)  # x-axis: count of UMI  (x=1 means 1 count)\n",
    "\n",
    "ax.plot(x, y_org_pdf[1:], 'bo', ms=8)\n",
    "ax.vlines(x, 0, y_org_pdf[1:], colors='b', lw=5, alpha=0.5)\n",
    "\n",
    "plt.xlabel('counts/UMI')\n",
    "plt.ylabel('Number of molecules')\n",
    "plt.title(f\"{NAME_FILE}\\nPDF\")\n",
    "plt.show()"
   ]
  },
  {
   "cell_type": "markdown",
   "id": "c1b520f6",
   "metadata": {},
   "source": [
    "### 0. Find 'r' assuming E=100%\n",
    "> r = capture rate (r=0.01 means it captures 1/100 duplicates in average)  \n",
    "E = amp. efficiency  (E=100% means every PCR cycle is successful 100% of the time)"
   ]
  },
  {
   "cell_type": "markdown",
   "id": "ed388b14",
   "metadata": {},
   "source": [
    "Since the capturing process in a sequencing machine can be modelled as a **bernoulli trial**, we can use a **binomial distribution** with E[x] = np to approximate the original data distribution. Here, we will call p as 'r', thus E[x] = nr."
   ]
  },
  {
   "cell_type": "markdown",
   "id": "5a1347f9",
   "metadata": {},
   "source": [
    "1. Find E[x] of original data  (Note: Since we don't know proportion of zeros, we will always **overestimate average**. There is no way of accurately accounting for this now, so I will try lowering this \"overestimated average\" later on."
   ]
  },
  {
   "cell_type": "code",
   "execution_count": 22,
   "id": "85d44a71",
   "metadata": {},
   "outputs": [
    {
     "name": "stdout",
     "output_type": "stream",
     "text": [
      "4.043962963893031\n"
     ]
    }
   ],
   "source": [
    "E_x_org = 0\n",
    "for i,v in enumerate(y_org_pdf_with_ones):\n",
    "    if i>0:\n",
    "        E_x_org += i*v\n",
    "print(E_x_org)"
   ]
  },
  {
   "cell_type": "markdown",
   "id": "1f48dc47",
   "metadata": {},
   "source": [
    "2. Find r  (r = E[x]/n) "
   ]
  },
  {
   "cell_type": "code",
   "execution_count": 23,
   "id": "5ba73569",
   "metadata": {},
   "outputs": [
    {
     "name": "stdout",
     "output_type": "stream",
     "text": [
      "0.000987295645481697\n"
     ]
    }
   ],
   "source": [
    "n = 2**PCR  # total number of amplified copies\n",
    "r_max = E_x_org/n\n",
    "print(r_max)"
   ]
  },
  {
   "cell_type": "markdown",
   "id": "e74a9a1a",
   "metadata": {},
   "source": [
    "3. Plot binomial distribution with n, r:"
   ]
  },
  {
   "cell_type": "code",
   "execution_count": 24,
   "id": "c95e5222",
   "metadata": {
    "scrolled": true
   },
   "outputs": [
    {
     "data": {
      "image/png": "[encoded data removed]",
      "text/plain": [
       "<Figure size 432x288 with 1 Axes>"
      ]
     },
     "metadata": {
      "needs_background": "light"
     },
     "output_type": "display_data"
    }
   ],
   "source": [
    "# Plot\n",
    "fig, ax = plt.subplots(1, 1)\n",
    "\n",
    "x = np.arange(11)  # x-axis: count of UMI  (x=1 means 1 count)\n",
    "\n",
    "ax.bar(x, y_org_pdf, color=(0.2,0.4,0.7,0.6)) # original\n",
    "ax.plot(x, binom.pmf(x,n,r_max), 'bo', ms=8)  # estimate\n",
    "\n",
    "plt.xlabel('counts/UMI')\n",
    "plt.ylabel('Number of molecules')\n",
    "plt.title(f\"{NAME_FILE} \\ndot: binomial (E=100%) \\nbar: top N barcodes\\n\\nr={round(r_max,5)}\")\n",
    "plt.show()"
   ]
  },
  {
   "cell_type": "markdown",
   "id": "6c5d3e85",
   "metadata": {},
   "source": [
    "### 1. Family Size F  (Update E)\n",
    "\n",
    "Given 4 cycles & E=0.4, construct F[1 to 16 copies]  \n",
    "Eg. F[k=10 copies] = 0.0032 "
   ]
  },
  {
   "cell_type": "code",
   "execution_count": 25,
   "id": "9c3e6bad",
   "metadata": {},
   "outputs": [
    {
     "data": {
      "text/html": [
       "<div>\n",
       "<style scoped>\n",
       "    .dataframe tbody tr th:only-of-type {\n",
       "        vertical-align: middle;\n",
       "    }\n",
       "\n",
       "    .dataframe tbody tr th {\n",
       "        vertical-align: top;\n",
       "    }\n",
       "\n",
       "    .dataframe thead th {\n",
       "        text-align: right;\n",
       "    }\n",
       "</style>\n",
       "<table border=\"1\" class=\"dataframe\">\n",
       "  <thead>\n",
       "    <tr style=\"text-align: right;\">\n",
       "      <th></th>\n",
       "      <th>0.05</th>\n",
       "      <th>0.06</th>\n",
       "      <th>0.07</th>\n",
       "      <th>0.08</th>\n",
       "      <th>0.09</th>\n",
       "      <th>0.1</th>\n",
       "      <th>0.11</th>\n",
       "      <th>0.12</th>\n",
       "      <th>0.13</th>\n",
       "      <th>0.14</th>\n",
       "      <th>...</th>\n",
       "      <th>0.72</th>\n",
       "      <th>0.73</th>\n",
       "      <th>0.74</th>\n",
       "      <th>0.75</th>\n",
       "      <th>0.76</th>\n",
       "      <th>0.77</th>\n",
       "      <th>0.78</th>\n",
       "      <th>0.79</th>\n",
       "      <th>0.8</th>\n",
       "      <th>0.81</th>\n",
       "    </tr>\n",
       "  </thead>\n",
       "  <tbody>\n",
       "    <tr>\n",
       "      <th>0</th>\n",
       "      <td>0.000000</td>\n",
       "      <td>0.000000</td>\n",
       "      <td>0.000000</td>\n",
       "      <td>0.000000</td>\n",
       "      <td>0.000000</td>\n",
       "      <td>0.000000</td>\n",
       "      <td>0.000000</td>\n",
       "      <td>0.000000</td>\n",
       "      <td>0.000000</td>\n",
       "      <td>0.000000</td>\n",
       "      <td>...</td>\n",
       "      <td>0.000000e+00</td>\n",
       "      <td>0.000000e+00</td>\n",
       "      <td>0.000000e+00</td>\n",
       "      <td>0.000000e+00</td>\n",
       "      <td>0.000000e+00</td>\n",
       "      <td>0.000000e+00</td>\n",
       "      <td>0.000000e+00</td>\n",
       "      <td>0.000000e+00</td>\n",
       "      <td>0.000000e+00</td>\n",
       "      <td>0.000000e+00</td>\n",
       "    </tr>\n",
       "    <tr>\n",
       "      <th>1</th>\n",
       "      <td>0.540360</td>\n",
       "      <td>0.475920</td>\n",
       "      <td>0.418596</td>\n",
       "      <td>0.367666</td>\n",
       "      <td>0.322475</td>\n",
       "      <td>0.282430</td>\n",
       "      <td>0.246990</td>\n",
       "      <td>0.215671</td>\n",
       "      <td>0.188032</td>\n",
       "      <td>0.163675</td>\n",
       "      <td>...</td>\n",
       "      <td>2.322183e-07</td>\n",
       "      <td>1.500946e-07</td>\n",
       "      <td>9.542896e-08</td>\n",
       "      <td>5.960464e-08</td>\n",
       "      <td>3.652035e-08</td>\n",
       "      <td>2.191462e-08</td>\n",
       "      <td>1.285500e-08</td>\n",
       "      <td>7.355828e-09</td>\n",
       "      <td>4.096000e-09</td>\n",
       "      <td>2.213315e-09</td>\n",
       "    </tr>\n",
       "    <tr>\n",
       "      <th>2</th>\n",
       "      <td>0.261443</td>\n",
       "      <td>0.265341</td>\n",
       "      <td>0.261692</td>\n",
       "      <td>0.252704</td>\n",
       "      <td>0.240093</td>\n",
       "      <td>0.225181</td>\n",
       "      <td>0.208973</td>\n",
       "      <td>0.192224</td>\n",
       "      <td>0.175489</td>\n",
       "      <td>0.159169</td>\n",
       "      <td>...</td>\n",
       "      <td>8.293508e-07</td>\n",
       "      <td>5.559060e-07</td>\n",
       "      <td>3.670344e-07</td>\n",
       "      <td>2.384186e-07</td>\n",
       "      <td>1.521681e-07</td>\n",
       "      <td>9.528097e-08</td>\n",
       "      <td>5.843183e-08</td>\n",
       "      <td>3.502775e-08</td>\n",
       "      <td>2.048000e-08</td>\n",
       "      <td>1.164903e-08</td>\n",
       "    </tr>\n",
       "    <tr>\n",
       "      <th>3</th>\n",
       "      <td>0.115625</td>\n",
       "      <td>0.135051</td>\n",
       "      <td>0.149123</td>\n",
       "      <td>0.158036</td>\n",
       "      <td>0.162316</td>\n",
       "      <td>0.162649</td>\n",
       "      <td>0.159767</td>\n",
       "      <td>0.154376</td>\n",
       "      <td>0.147124</td>\n",
       "      <td>0.138576</td>\n",
       "      <td>...</td>\n",
       "      <td>1.295859e-06</td>\n",
       "      <td>8.754420e-07</td>\n",
       "      <td>5.825941e-07</td>\n",
       "      <td>3.814696e-07</td>\n",
       "      <td>2.454324e-07</td>\n",
       "      <td>1.549284e-07</td>\n",
       "      <td>9.578988e-08</td>\n",
       "      <td>5.789711e-08</td>\n",
       "      <td>3.413333e-08</td>\n",
       "      <td>1.957819e-08</td>\n",
       "    </tr>\n",
       "    <tr>\n",
       "      <th>4</th>\n",
       "      <td>0.049012</td>\n",
       "      <td>0.065919</td>\n",
       "      <td>0.081531</td>\n",
       "      <td>0.094862</td>\n",
       "      <td>0.105359</td>\n",
       "      <td>0.112823</td>\n",
       "      <td>0.117319</td>\n",
       "      <td>0.119088</td>\n",
       "      <td>0.118475</td>\n",
       "      <td>0.115876</td>\n",
       "      <td>...</td>\n",
       "      <td>2.371270e-06</td>\n",
       "      <td>1.647264e-06</td>\n",
       "      <td>1.129149e-06</td>\n",
       "      <td>7.629390e-07</td>\n",
       "      <td>5.075345e-07</td>\n",
       "      <td>3.319703e-07</td>\n",
       "      <td>2.131730e-07</td>\n",
       "      <td>1.341569e-07</td>\n",
       "      <td>8.258064e-08</td>\n",
       "      <td>4.960542e-08</td>\n",
       "    </tr>\n",
       "  </tbody>\n",
       "</table>\n",
       "<p>5 rows × 77 columns</p>\n",
       "</div>"
      ],
      "text/plain": [
       "       0.05      0.06      0.07      0.08      0.09       0.1      0.11  \\\n",
       "0  0.000000  0.000000  0.000000  0.000000  0.000000  0.000000  0.000000   \n",
       "1  0.540360  0.475920  0.418596  0.367666  0.322475  0.282430  0.246990   \n",
       "2  0.261443  0.265341  0.261692  0.252704  0.240093  0.225181  0.208973   \n",
       "3  0.115625  0.135051  0.149123  0.158036  0.162316  0.162649  0.159767   \n",
       "4  0.049012  0.065919  0.081531  0.094862  0.105359  0.112823  0.117319   \n",
       "\n",
       "       0.12      0.13      0.14  ...          0.72          0.73  \\\n",
       "0  0.000000  0.000000  0.000000  ...  0.000000e+00  0.000000e+00   \n",
       "1  0.215671  0.188032  0.163675  ...  2.322183e-07  1.500946e-07   \n",
       "2  0.192224  0.175489  0.159169  ...  8.293508e-07  5.559060e-07   \n",
       "3  0.154376  0.147124  0.138576  ...  1.295859e-06  8.754420e-07   \n",
       "4  0.119088  0.118475  0.115876  ...  2.371270e-06  1.647264e-06   \n",
       "\n",
       "           0.74          0.75          0.76          0.77          0.78  \\\n",
       "0  0.000000e+00  0.000000e+00  0.000000e+00  0.000000e+00  0.000000e+00   \n",
       "1  9.542896e-08  5.960464e-08  3.652035e-08  2.191462e-08  1.285500e-08   \n",
       "2  3.670344e-07  2.384186e-07  1.521681e-07  9.528097e-08  5.843183e-08   \n",
       "3  5.825941e-07  3.814696e-07  2.454324e-07  1.549284e-07  9.578988e-08   \n",
       "4  1.129149e-06  7.629390e-07  5.075345e-07  3.319703e-07  2.131730e-07   \n",
       "\n",
       "           0.79           0.8          0.81  \n",
       "0  0.000000e+00  0.000000e+00  0.000000e+00  \n",
       "1  7.355828e-09  4.096000e-09  2.213315e-09  \n",
       "2  3.502775e-08  2.048000e-08  1.164903e-08  \n",
       "3  5.789711e-08  3.413333e-08  1.957819e-08  \n",
       "4  1.341569e-07  8.258064e-08  4.960542e-08  \n",
       "\n",
       "[5 rows x 77 columns]"
      ]
     },
     "execution_count": 25,
     "metadata": {},
     "output_type": "execute_result"
    }
   ],
   "source": [
    "df = pd.read_csv('FamilySize'+str(PCR)+'.tsv', sep='\\t')\n",
    "df.head()"
   ]
  },
  {
   "cell_type": "code",
   "execution_count": 26,
   "id": "9c096ab1",
   "metadata": {},
   "outputs": [],
   "source": [
    "# Input: (1) E = 0.4 means 40% amp. efficiency\n",
    "# Effect: Outputs family size \"F\" by importing it from tsv file\n",
    "def famsize(E: float)->list:\n",
    "    return df[str(E)].tolist()"
   ]
  },
  {
   "cell_type": "markdown",
   "id": "41537417",
   "metadata": {},
   "source": [
    "### 2. Apply to Binomial Model"
   ]
  },
  {
   "cell_type": "markdown",
   "id": "b9668aac",
   "metadata": {},
   "source": [
    "Eg.\n",
    " \n",
    "> P(x=1) += P(k=1 copies) * binom(x=1, N=1 copies, r_constant)\n",
    "<br>\n",
    "...<br><br>\n",
    "P(x=1) += P(k=400 copies) * binom(x=1, N=400 copies, r_constant)\n",
    "<br>\n",
    "...<br><br>\n",
    "P(x=1) += P(k=1024 copies) * binom(x=1, N=1024 copies, r_constant)"
   ]
  },
  {
   "cell_type": "markdown",
   "id": "7bcaee0e",
   "metadata": {},
   "source": [
    "(Below) I used poisson to estimate binomial. But you can change this back to binomial via using parameters \"r\"."
   ]
  },
  {
   "cell_type": "code",
   "execution_count": 27,
   "id": "23e57541",
   "metadata": {
    "scrolled": true
   },
   "outputs": [],
   "source": [
    "# Input: (1) P = [0]*10, (2) r = capture rate, (3) E = amp. efficiency\n",
    "# Effect: updates input \"P\" which is our estimate pdf\n",
    "def update_est(P: list, r: float, E: float, F: list, PCR: int):\n",
    "    if r < 1:\n",
    "        MAX_COPIES = 2**PCR\n",
    "        for x in range(len(P)):  # eg. x=3 means 3 copies/UMI\n",
    "            for k in range(1,MAX_COPIES+1):\n",
    "                P[x] += F[k] * fast_binom(x,k,r)\n",
    "    else:\n",
    "        print('r exceeded 100%!')"
   ]
  },
  {
   "cell_type": "markdown",
   "id": "b9f7991c",
   "metadata": {},
   "source": [
    "### 3. Update scale of original data distribution"
   ]
  },
  {
   "cell_type": "code",
   "execution_count": 28,
   "id": "df8df331",
   "metadata": {},
   "outputs": [],
   "source": [
    "# Changes: nothing\n",
    "# Effect: returns new list \"y_org_pdf_scaled\" such that y_org_pdf_scaled[2 to n] == P[2 to n] == eg 0.72 < 1\n",
    "def update_scale(y_org_pdf: list, P: list)->list:\n",
    "    area = 0 # sum of P[1 to n]\n",
    "    for v in P[2:]:\n",
    "        area+=v\n",
    "    \n",
    "    y_org_pdf_scaled = [x*area for x in y_org_pdf]\n",
    "    \n",
    "    return y_org_pdf_scaled"
   ]
  },
  {
   "cell_type": "markdown",
   "id": "7c311e95",
   "metadata": {},
   "source": [
    "# main()  <- Super Important"
   ]
  },
  {
   "cell_type": "markdown",
   "id": "b8ea1edf",
   "metadata": {},
   "source": [
    "I mentioned above, that it is **impossible to calculate r**. However, we know the upper bound of r, which we have as \"r_max.\" Thus for each cycle of E, we will keep **decreasing r** until the loss rate stops improving.  \n",
    "<br>\n",
    "What's the point?  \n",
    "By doing this, we can find a better \"r\" with **lower loss**."
   ]
  },
  {
   "cell_type": "code",
   "execution_count": 29,
   "id": "562fc49e",
   "metadata": {
    "scrolled": true
   },
   "outputs": [
    {
     "data": {
      "application/vnd.jupyter.widget-view+json": {
       "model_id": "7ecfa6adb7fc48049edbd3569f6bf53c",
       "version_major": 2,
       "version_minor": 0
      },
      "text/plain": [
       "  0%|          | 0/35 [00:00<?, ?it/s]"
      ]
     },
     "metadata": {},
     "output_type": "display_data"
    },
    {
     "name": "stdout",
     "output_type": "stream",
     "text": [
      "[(1, 999), (1, 998), (0.45355735810311976, 0.00011162521139166065), (0.44448621094105734, 0.00013320105863199358)]\n",
      "[(1, 999), (1, 998), (0.4105657581779451, 0.00010016464771707289), (0.4023544430143862, 0.00012057234926096443)]\n",
      "[(1, 999), (1, 998), (0.37195397253406093, 9.058726522806746e-05), (0.3645148930833797, 0.00011000297474419676)]\n",
      "[(1, 999), (1, 998), (0.3372452428231766, 8.249140125504629e-05), (0.3305003379667131, 0.00010106186950228362)]\n",
      "[(1, 999), (1, 998), (0.3060179824522314, 7.557415743024207e-05), (0.29989762280318677, 9.342250958901652e-05)]\n",
      "[(1, 999), (1, 998), (0.2778990188184929, 6.960472429518726e-05), (0.27234103844212304, 8.683497291457946e-05)]\n",
      "[(1, 999), (1, 998), (0.2525577082815757, 6.440559623344943e-05), (0.2475065541159442, 8.11061921115393e-05)]\n",
      "[(1, 999), (1, 998), (0.22970080543797805, 5.983916616104113e-05), (0.2251067893292185, 7.608581275870443e-05)]\n",
      "[(1, 999), (1, 998), (0.20906798510092464, 5.579804015074503e-05), (0.20488662539890615, 7.165594063064047e-05)]\n",
      "[(1, 999), (1, 998), (0.19042792972468253, 5.219795840864002e-05), (0.1866193711301889, 6.772362271143446e-05)]\n",
      "[(1, 999), (1, 998), (0.17357490723522548, 4.8972565156955825e-05), (0.17010340909052096, 6.421527368252621e-05)]\n",
      "[(1, 999), (1, 998), (0.15832577466294245, 4.606950552612641e-05), (0.1551592591696836, 6.107250305809801e-05)]\n",
      "[(1, 999), (1, 998), (0.14451735189094608, 4.344748546727914e-05), (0.14162700485312715, 5.8248961843374576e-05)]\n",
      "[(1, 999), (1, 998), (0.132004117463987, 4.1074037908813506e-05), (0.12936403511470726, 5.570793905950222e-05)]\n",
      "[(1, 999), (1, 998), (0.12065618494150068, 3.8923812049631565e-05), (0.11824306124267067, 5.342051528789594e-05)]\n",
      "[(1, 999), (1, 998), (0.11035752388704469, 3.69772538768283e-05), (0.1081503734093038, 5.136413391099576e-05)]\n",
      "[(1, 999), (1, 998), (0.10100439440319495, 3.521958195517927e-05), (0.09898430651513104, 4.9521488422353156e-05)]\n",
      "[(1, 999), (1, 998), (0.09250396826241593, 3.3639988050161945e-05), (0.0906538888971676, 4.7879650994982835e-05)]\n",
      "[(1, 999), (1, 998), (0.08477311324924731, 3.223101042313909e-05), (0.08307765098426237, 4.642938675498394e-05)]\n",
      "[(1, 999), (1, 998), (0.07773732040105433, 3.0988040848796875e-05), (0.07618257399303324, 4.516461216251663e-05)]\n",
      "[(1, 999), (1, 998), (0.0713297564846691, 2.990893603645491e-05), (0.06990316135497572, 4.408196610006296e-05)]\n",
      "[(1, 999), (1, 998), (0.06549042633486571, 2.8993711215238394e-05), (0.06418061780816839, 4.318046978037799e-05)]\n",
      "[(1, 999), (1, 998), (0.06016543165923166, 2.824429889176418e-05), (0.05896212302604703, 4.246125717613053e-05)]\n",
      "[(1, 999), (1, 998), (0.05530631462635936, 2.7664359869217113e-05), (0.054200188333832174, 4.1927362154465705e-05)]\n",
      "[(1, 999), (1, 998), (0.05086947603779359, 2.7259139088937868e-05), (0.04985208651703772, 4.1583556004933925e-05)]\n",
      "[(1, 999), (1, 998), (0.04681565917070994, 2.7035386824420695e-05), (0.04587934598729574, 4.143627336946262e-05)]\n",
      "[(1, 999), (1, 998), (0.043109491495150344, 2.7001550142356493e-05), (0.04224730166524734, 4.1493948546975074e-05)]\n",
      "[(1, 999), (1, 998), (0.03971907744015715, 2.716935044260444e-05), (0.03892469589135401, 4.176941827121323e-05)]\n",
      "[(1, 999), (1, 998), (0.03661563622731006, 2.756100002211209e-05), (0.03588332350276386, 4.2290396799634644e-05)]\n",
      "[(1, 999), (1, 998), (0.033773179525163094, 2.8233440952730475e-05), (0.033097715934659835, 4.313327247062646e-05)]\n",
      "[(1, 999), (1, 998), (0.031168224318608922, 2.934005441098046e-05), (0.030544859832236742, 4.450573740515322e-05)]\n",
      "[(1, 999), (1, 998), (0.028779536945946847, 3.125145308997092e-05), (0.02820394620702791, 4.690084325528758e-05)]\n",
      "[(1, 999), (1, 998), (0.02658790474428077, 3.293579359233527e-05), (0.026056146649395154, 4.887944555737968e-05)]\n",
      "[(1, 999), (1, 998), (0.024575932170221377, 3.4791421776195e-05), (0.02408441352681695, 5.0999600775139656e-05)]\n",
      "[(1, 999), (1, 998), (0.022727858635790733, 3.699437204219124e-05), (0.022273301463074918, 5.3495636752616294e-05)]\n"
     ]
    }
   ],
   "source": [
    "tuples = [] # store tuples (E, loss, r)\n",
    "\n",
    "# Try ALL possible E\n",
    "Elist = [v/100 for v in list(range(20,55,1))]  # [0.3, 0.31, 0.32..., 0.99]\n",
    "for E in tqdm(Elist):\n",
    "    # 1. update F\n",
    "    F = famsize(E) # Family size, eg. F[1 to 4096]\n",
    "    \n",
    "    # update r \n",
    "    r_new_max = r_max * (2/(1+E))**PCR  # If E=100%, r_new==r. If E=0%, r_new==r*(2^PCR)\n",
    "    r_new = r_new_max\n",
    "    if r_new >= 1: # ignore if r > 1\n",
    "        continue\n",
    "        \n",
    "    loss_r = [(1,999), (1,998)] # store tuples (r, loss)\n",
    "    i = 1\n",
    "    while loss_r[i][1] < loss_r[i-1][1]: # while \"new loss\" < \"last loss\" -> stop when it stops improving \n",
    "        # 2. update P  (our estimate pdf)\n",
    "        P = np.zeros(11)  # P[x=2] = is the probability of capturing 2 copies\n",
    "        update_est(P,r_new,E,F,PCR)\n",
    "\n",
    "        # 3. update scale of original data distrbution\n",
    "        y_org_pdf_scaled = update_scale(y_org_pdf,P)\n",
    "\n",
    "        # 4. Calculate and store loss funtion\n",
    "        loss = mean_squared_error(y_org_pdf_scaled[2:],P[2:])\n",
    "        loss_r.append((r_new,loss))\n",
    "        \n",
    "        # decrease r\n",
    "        r_new -= r_new_max*0.02\n",
    "        i += 1\n",
    "    \n",
    "    print(loss_r)\n",
    "    # Store (E, MIN loss, r)\n",
    "    if r_new < 1:\n",
    "        tuples.append((E,loss_r[i-1][1],loss_r[i-1][0]))\n",
    "    \n",
    "# Find E with minimum loss\n",
    "E_pair = min(tuples, key=lambda t:t[1])\n",
    "E = E_pair[0]\n",
    "loss = E_pair[1]\n",
    "r_new = E_pair[2]"
   ]
  },
  {
   "cell_type": "code",
   "execution_count": 30,
   "id": "d9426709",
   "metadata": {},
   "outputs": [
    {
     "data": {
      "text/plain": [
       "[(0.2, 0.00011162521139166065, 0.45355735810311976),\n",
       " (0.21, 0.00010016464771707289, 0.4105657581779451),\n",
       " (0.22, 9.058726522806746e-05, 0.37195397253406093),\n",
       " (0.23, 8.249140125504629e-05, 0.3372452428231766),\n",
       " (0.24, 7.557415743024207e-05, 0.3060179824522314),\n",
       " (0.25, 6.960472429518726e-05, 0.2778990188184929),\n",
       " (0.26, 6.440559623344943e-05, 0.2525577082815757),\n",
       " (0.27, 5.983916616104113e-05, 0.22970080543797805),\n",
       " (0.28, 5.579804015074503e-05, 0.20906798510092464),\n",
       " (0.29, 5.219795840864002e-05, 0.19042792972468253),\n",
       " (0.3, 4.8972565156955825e-05, 0.17357490723522548),\n",
       " (0.31, 4.606950552612641e-05, 0.15832577466294245),\n",
       " (0.32, 4.344748546727914e-05, 0.14451735189094608),\n",
       " (0.33, 4.1074037908813506e-05, 0.132004117463987),\n",
       " (0.34, 3.8923812049631565e-05, 0.12065618494150068),\n",
       " (0.35, 3.69772538768283e-05, 0.11035752388704469),\n",
       " (0.36, 3.521958195517927e-05, 0.10100439440319495),\n",
       " (0.37, 3.3639988050161945e-05, 0.09250396826241593),\n",
       " (0.38, 3.223101042313909e-05, 0.08477311324924731),\n",
       " (0.39, 3.0988040848796875e-05, 0.07773732040105433),\n",
       " (0.4, 2.990893603645491e-05, 0.0713297564846691),\n",
       " (0.41, 2.8993711215238394e-05, 0.06549042633486571),\n",
       " (0.42, 2.824429889176418e-05, 0.06016543165923166),\n",
       " (0.43, 2.7664359869217113e-05, 0.05530631462635936),\n",
       " (0.44, 2.7259139088937868e-05, 0.05086947603779359),\n",
       " (0.45, 2.7035386824420695e-05, 0.04681565917070994),\n",
       " (0.46, 2.7001550142356493e-05, 0.043109491495150344),\n",
       " (0.47, 2.716935044260444e-05, 0.03971907744015715),\n",
       " (0.48, 2.756100002211209e-05, 0.03661563622731006),\n",
       " (0.49, 2.8233440952730475e-05, 0.033773179525163094),\n",
       " (0.5, 2.934005441098046e-05, 0.031168224318608922),\n",
       " (0.51, 3.125145308997092e-05, 0.028779536945946847),\n",
       " (0.52, 3.293579359233527e-05, 0.02658790474428077),\n",
       " (0.53, 3.4791421776195e-05, 0.024575932170221377),\n",
       " (0.54, 3.699437204219124e-05, 0.022727858635790733)]"
      ]
     },
     "execution_count": 30,
     "metadata": {},
     "output_type": "execute_result"
    }
   ],
   "source": [
    "tuples  # (E, loss, r) E: amplification efficiency, r: capture rate"
   ]
  },
  {
   "cell_type": "markdown",
   "id": "4f3c0d77",
   "metadata": {},
   "source": [
    "### Real vs Simulator  (Run with 10x_Template_for_counts...) "
   ]
  },
  {
   "cell_type": "markdown",
   "id": "29b369d5",
   "metadata": {},
   "source": [
    "Update P (estimate) with E_min"
   ]
  },
  {
   "cell_type": "code",
   "execution_count": 33,
   "id": "ed8b8606",
   "metadata": {},
   "outputs": [],
   "source": [
    "# 1. update F\n",
    "F = famsize(E)  \n",
    "\n",
    "# 2. update P  (our estimate pdf)\n",
    "P = np.zeros(11)  # P[x=2] = is the probability of capturing 2 copies\n",
    "update_est(P,r_new,E,F,PCR)\n",
    "\n",
    "# 3. update scale of origina data graph\n",
    "y_org_pdf_scaled = update_scale(y_org_pdf,P)\n",
    "\n",
    "loss = mean_squared_error(y_org_pdf_scaled[2:],P[2:])"
   ]
  },
  {
   "cell_type": "code",
   "execution_count": 35,
   "id": "742922eb",
   "metadata": {
    "scrolled": true
   },
   "outputs": [
    {
     "data": {
      "image/png": "[encoded data removed]",
      "text/plain": [
       "<Figure size 432x288 with 1 Axes>"
      ]
     },
     "metadata": {
      "needs_background": "light"
     },
     "output_type": "display_data"
    }
   ],
   "source": [
    "# Plot\n",
    "fig, ax = plt.subplots(1, 1)\n",
    "\n",
    "x = np.arange(0, 11)  # x-axis: count of UMI  (x=1 means 1 count)\n",
    "\n",
    "ax.bar(x, y_org_pdf_scaled, color=(0.2,0.4,0.7,0.6))\n",
    "ax.plot(x, P, 'bo', ms=8)\n",
    "\n",
    "plt.xlabel('counts/UMI')\n",
    "plt.ylabel('Number of molecules')\n",
    "plt.title(f\"{NAME_FILE} \\ndot: estimate \\nbar: original \\nPCR={PCR}\\nloss (MSE) = {round(loss,8)}\\n\\nE={E}\\nP(x=0)={round(P[0],3)}\\nr={round(r_new,3)}\")\n",
    "plt.show()"
   ]
  },
  {
   "cell_type": "code",
   "execution_count": 36,
   "id": "ac395fb4",
   "metadata": {},
   "outputs": [
    {
     "name": "stdout",
     "output_type": "stream",
     "text": [
      "av including zeros: 3.527159619158477\n",
      "P[x=0]=0.09517518799454584\n"
     ]
    }
   ],
   "source": [
    "# Average\n",
    "sum1=0\n",
    "for i,v in enumerate(P):\n",
    "    sum1+=i*v\n",
    "print(f'av including zeros: {sum1}')\n",
    "print(f'P[x=0]={P[0]}')"
   ]
  },
  {
   "cell_type": "code",
   "execution_count": null,
   "id": "193ae6d2",
   "metadata": {},
   "outputs": [],
   "source": []
  }
 ],
 "metadata": {
  "kernelspec": {
   "display_name": "Python 3",
   "language": "python",
   "name": "python3"
  },
  "language_info": {
   "codemirror_mode": {
    "name": "ipython",
    "version": 3
   },
   "file_extension": ".py",
   "mimetype": "text/x-python",
   "name": "python",
   "nbconvert_exporter": "python",
   "pygments_lexer": "ipython3",
   "version": "3.8.7"
  }
 },
 "nbformat": 4,
 "nbformat_minor": 5
}
